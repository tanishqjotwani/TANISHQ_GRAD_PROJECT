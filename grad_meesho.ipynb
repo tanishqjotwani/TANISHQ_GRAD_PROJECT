{
 "cells": [
  {
   "cell_type": "code",
   "execution_count": 24,
   "id": "e301eac6-0cb6-4939-ba1b-1c1c78f376e5",
   "metadata": {},
   "outputs": [],
   "source": [
    "import pandas as pd\n",
    "from matplotlib import pyplot as plt\n",
    "import numpy as np\n",
    "import seaborn as sns\n",
    "%matplotlib inline"
   ]
  },
  {
   "cell_type": "code",
   "execution_count": 25,
   "id": "26010d81-2321-47c0-ad33-cac4729730d3",
   "metadata": {},
   "outputs": [
    {
     "data": {
      "text/html": [
       "<div>\n",
       "<style scoped>\n",
       "    .dataframe tbody tr th:only-of-type {\n",
       "        vertical-align: middle;\n",
       "    }\n",
       "\n",
       "    .dataframe tbody tr th {\n",
       "        vertical-align: top;\n",
       "    }\n",
       "\n",
       "    .dataframe thead th {\n",
       "        text-align: right;\n",
       "    }\n",
       "</style>\n",
       "<table border=\"1\" class=\"dataframe\">\n",
       "  <thead>\n",
       "    <tr style=\"text-align: right;\">\n",
       "      <th></th>\n",
       "      <th>REASONFORCREDITENTRY</th>\n",
       "      <th>ReasonforCreditEntry</th>\n",
       "      <th>SubOrderNo</th>\n",
       "      <th>OrderDate</th>\n",
       "      <th>CUSTOMERSTATE</th>\n",
       "      <th>CustomerState</th>\n",
       "      <th>ProductName</th>\n",
       "      <th>SKU</th>\n",
       "      <th>Size</th>\n",
       "      <th>Quantity</th>\n",
       "      <th>SupplierListedPrice</th>\n",
       "      <th>SupplierDiscountedPrice</th>\n",
       "      <th>PacketId</th>\n",
       "      <th>account_id</th>\n",
       "      <th>create_time</th>\n",
       "      <th>update_time</th>\n",
       "    </tr>\n",
       "  </thead>\n",
       "  <tbody>\n",
       "    <tr>\n",
       "      <th>0</th>\n",
       "      <td>NaN</td>\n",
       "      <td>NaN</td>\n",
       "      <td>NaN</td>\n",
       "      <td>NaN</td>\n",
       "      <td>NaN</td>\n",
       "      <td>NaN</td>\n",
       "      <td>NaN</td>\n",
       "      <td>NaN</td>\n",
       "      <td>NaN</td>\n",
       "      <td>0</td>\n",
       "      <td>0</td>\n",
       "      <td>0.0</td>\n",
       "      <td>NaN</td>\n",
       "      <td>6</td>\n",
       "      <td>23/04/24 7:11</td>\n",
       "      <td>23/04/24 7:11</td>\n",
       "    </tr>\n",
       "    <tr>\n",
       "      <th>1</th>\n",
       "      <td>DELIVERED</td>\n",
       "      <td>DELIVERED</td>\n",
       "      <td>100029636931_1</td>\n",
       "      <td>22/08/23 0:00</td>\n",
       "      <td>WEST BENGAL</td>\n",
       "      <td>West Bengal</td>\n",
       "      <td>Furshine Universal Triple Seater Sofa Cover Bi...</td>\n",
       "      <td>TRIPLE_SOFA_COVER_BLA_PRISM</td>\n",
       "      <td>Free Size</td>\n",
       "      <td>1</td>\n",
       "      <td>1049</td>\n",
       "      <td>1049.0</td>\n",
       "      <td>NaN</td>\n",
       "      <td>6</td>\n",
       "      <td>23/01/24 15:18</td>\n",
       "      <td>23/01/24 15:18</td>\n",
       "    </tr>\n",
       "    <tr>\n",
       "      <th>2</th>\n",
       "      <td>DELIVERED</td>\n",
       "      <td>DELIVERED</td>\n",
       "      <td>100030804488_1</td>\n",
       "      <td>17/03/24 0:00</td>\n",
       "      <td>TAMIL NADU</td>\n",
       "      <td>Tamil Nadu</td>\n",
       "      <td>Furshine Universal Triple Seater Sofa Cover Bi...</td>\n",
       "      <td>TRIPLE_SOFA_COVER_BLEND_GEOMETRIC</td>\n",
       "      <td>Free Size</td>\n",
       "      <td>1</td>\n",
       "      <td>1044</td>\n",
       "      <td>940.0</td>\n",
       "      <td>NaN</td>\n",
       "      <td>7</td>\n",
       "      <td>18/03/24 11:32</td>\n",
       "      <td>18/03/24 11:32</td>\n",
       "    </tr>\n",
       "    <tr>\n",
       "      <th>3</th>\n",
       "      <td>DELIVERED</td>\n",
       "      <td>DELIVERED</td>\n",
       "      <td>100035318894_1</td>\n",
       "      <td>06/10/23 0:00</td>\n",
       "      <td>MADHYA PRADESH</td>\n",
       "      <td>Madhya Pradesh</td>\n",
       "      <td>Furshine Universal Triple Seater Sofa Cover Bi...</td>\n",
       "      <td>TRIPLE_SOFA_COVER_BLA_PRISM</td>\n",
       "      <td>Free Size</td>\n",
       "      <td>1</td>\n",
       "      <td>999</td>\n",
       "      <td>900.0</td>\n",
       "      <td>NaN</td>\n",
       "      <td>6</td>\n",
       "      <td>23/01/24 15:21</td>\n",
       "      <td>23/01/24 15:21</td>\n",
       "    </tr>\n",
       "    <tr>\n",
       "      <th>4</th>\n",
       "      <td>DELIVERED</td>\n",
       "      <td>DELIVERED</td>\n",
       "      <td>100066941702_1</td>\n",
       "      <td>03/12/23 0:00</td>\n",
       "      <td>BIHAR</td>\n",
       "      <td>Bihar</td>\n",
       "      <td>Furshine Single Seater Sofa Cover Big Elastici...</td>\n",
       "      <td>SINGLE_SOFA_COVER_BLU_DIAMOND_3</td>\n",
       "      <td>Free Size</td>\n",
       "      <td>1</td>\n",
       "      <td>700</td>\n",
       "      <td>700.0</td>\n",
       "      <td>NaN</td>\n",
       "      <td>7</td>\n",
       "      <td>23/01/24 17:00</td>\n",
       "      <td>23/01/24 17:00</td>\n",
       "    </tr>\n",
       "  </tbody>\n",
       "</table>\n",
       "</div>"
      ],
      "text/plain": [
       "  REASONFORCREDITENTRY ReasonforCreditEntry      SubOrderNo      OrderDate  \\\n",
       "0                  NaN                  NaN             NaN            NaN   \n",
       "1            DELIVERED            DELIVERED  100029636931_1  22/08/23 0:00   \n",
       "2            DELIVERED            DELIVERED  100030804488_1  17/03/24 0:00   \n",
       "3            DELIVERED            DELIVERED  100035318894_1  06/10/23 0:00   \n",
       "4            DELIVERED            DELIVERED  100066941702_1  03/12/23 0:00   \n",
       "\n",
       "    CUSTOMERSTATE   CustomerState  \\\n",
       "0             NaN             NaN   \n",
       "1     WEST BENGAL     West Bengal   \n",
       "2      TAMIL NADU      Tamil Nadu   \n",
       "3  MADHYA PRADESH  Madhya Pradesh   \n",
       "4           BIHAR           Bihar   \n",
       "\n",
       "                                         ProductName  \\\n",
       "0                                                NaN   \n",
       "1  Furshine Universal Triple Seater Sofa Cover Bi...   \n",
       "2  Furshine Universal Triple Seater Sofa Cover Bi...   \n",
       "3  Furshine Universal Triple Seater Sofa Cover Bi...   \n",
       "4  Furshine Single Seater Sofa Cover Big Elastici...   \n",
       "\n",
       "                                 SKU       Size  Quantity  \\\n",
       "0                                NaN        NaN         0   \n",
       "1        TRIPLE_SOFA_COVER_BLA_PRISM  Free Size         1   \n",
       "2  TRIPLE_SOFA_COVER_BLEND_GEOMETRIC  Free Size         1   \n",
       "3        TRIPLE_SOFA_COVER_BLA_PRISM  Free Size         1   \n",
       "4    SINGLE_SOFA_COVER_BLU_DIAMOND_3  Free Size         1   \n",
       "\n",
       "   SupplierListedPrice  SupplierDiscountedPrice  PacketId  account_id  \\\n",
       "0                    0                      0.0       NaN           6   \n",
       "1                 1049                   1049.0       NaN           6   \n",
       "2                 1044                    940.0       NaN           7   \n",
       "3                  999                    900.0       NaN           6   \n",
       "4                  700                    700.0       NaN           7   \n",
       "\n",
       "      create_time     update_time  \n",
       "0   23/04/24 7:11   23/04/24 7:11  \n",
       "1  23/01/24 15:18  23/01/24 15:18  \n",
       "2  18/03/24 11:32  18/03/24 11:32  \n",
       "3  23/01/24 15:21  23/01/24 15:21  \n",
       "4  23/01/24 17:00  23/01/24 17:00  "
      ]
     },
     "execution_count": 25,
     "metadata": {},
     "output_type": "execute_result"
    }
   ],
   "source": [
    "df3=pd.read_csv('Documents/Meesho_Orders.csv')\n",
    "df3.head()"
   ]
  },
  {
   "cell_type": "code",
   "execution_count": 26,
   "id": "2512f5cc-630b-462d-a49a-8520de523540",
   "metadata": {},
   "outputs": [
    {
     "data": {
      "text/plain": [
       "(86328, 16)"
      ]
     },
     "execution_count": 26,
     "metadata": {},
     "output_type": "execute_result"
    }
   ],
   "source": [
    "df3.shape"
   ]
  },
  {
   "cell_type": "code",
   "execution_count": 27,
   "id": "aab0dfc4-49df-4de0-ad5c-8042504ff085",
   "metadata": {},
   "outputs": [
    {
     "data": {
      "text/plain": [
       "REASONFORCREDITENTRY           1\n",
       "ReasonforCreditEntry           1\n",
       "SubOrderNo                     1\n",
       "OrderDate                      1\n",
       "CUSTOMERSTATE              42443\n",
       "CustomerState              42443\n",
       "ProductName                    1\n",
       "SKU                            2\n",
       "Size                           1\n",
       "Quantity                       0\n",
       "SupplierListedPrice            0\n",
       "SupplierDiscountedPrice        0\n",
       "PacketId                   86328\n",
       "account_id                     0\n",
       "create_time                    0\n",
       "update_time                    0\n",
       "dtype: int64"
      ]
     },
     "execution_count": 27,
     "metadata": {},
     "output_type": "execute_result"
    }
   ],
   "source": [
    "df3.isna().sum()"
   ]
  },
  {
   "cell_type": "code",
   "execution_count": 28,
   "id": "d415ff5a-2e03-4cd6-847d-829ea9c63897",
   "metadata": {},
   "outputs": [],
   "source": [
    "df3.drop(columns=['PacketId','SubOrderNo','ReasonforCreditEntry','CustomerState'], inplace=True)\n",
    "\n",
    "columns_to_check_null2 = [\n",
    "    'REASONFORCREDITENTRY',\n",
    "    'OrderDate',\n",
    "    'ProductName',\n",
    "    'SKU',\n",
    "    'Size',\n",
    "    \n",
    "]\n",
    "df3.dropna(subset=columns_to_check_null2, inplace=True)\n"
   ]
  },
  {
   "cell_type": "code",
   "execution_count": 29,
   "id": "32969b25-fba0-4d94-b797-829f0ee049ad",
   "metadata": {},
   "outputs": [
    {
     "data": {
      "text/plain": [
       "(86326, 12)"
      ]
     },
     "execution_count": 29,
     "metadata": {},
     "output_type": "execute_result"
    }
   ],
   "source": [
    "df3.shape"
   ]
  },
  {
   "cell_type": "code",
   "execution_count": 30,
   "id": "78291cce-7786-49da-81f3-972e9dd7a5e7",
   "metadata": {},
   "outputs": [
    {
     "data": {
      "text/plain": [
       "REASONFORCREDITENTRY           0\n",
       "OrderDate                      0\n",
       "CUSTOMERSTATE              42442\n",
       "ProductName                    0\n",
       "SKU                            0\n",
       "Size                           0\n",
       "Quantity                       0\n",
       "SupplierListedPrice            0\n",
       "SupplierDiscountedPrice        0\n",
       "account_id                     0\n",
       "create_time                    0\n",
       "update_time                    0\n",
       "dtype: int64"
      ]
     },
     "execution_count": 30,
     "metadata": {},
     "output_type": "execute_result"
    }
   ],
   "source": [
    "df3.isna().sum()"
   ]
  },
  {
   "cell_type": "code",
   "execution_count": 31,
   "id": "4b41b105-707c-477b-92e9-520313c3b66e",
   "metadata": {},
   "outputs": [],
   "source": [
    "\n",
    "df3['Quantity'] = df3['Quantity'].astype('int64')\n",
    "df3['SupplierListedPrice'] = df3['SupplierListedPrice'].astype('int64')\n",
    "df3['SupplierDiscountedPrice'] = df3['SupplierDiscountedPrice'].astype('float64')\n",
    "df3['account_id'] = df3['account_id'].astype('int64')\n",
    "df3['REASONFORCREDITENTRY'] = df3['REASONFORCREDITENTRY'].astype('category')\n",
    "df3['CUSTOMERSTATE'] = df3['CUSTOMERSTATE'].astype('category')\n",
    "df3['ProductName'] = df3['ProductName'].astype('category')\n",
    "df3['SKU'] = df3['SKU'].astype('category')\n",
    "df3['Size'] = df3['Size'].astype('category')"
   ]
  },
  {
   "cell_type": "code",
   "execution_count": 32,
   "id": "30be0dca-138f-4093-ba4e-c4d485fa1c98",
   "metadata": {},
   "outputs": [
    {
     "name": "stdout",
     "output_type": "stream",
     "text": [
      "<class 'pandas.core.frame.DataFrame'>\n",
      "Index: 86326 entries, 1 to 86327\n",
      "Data columns (total 12 columns):\n",
      " #   Column                   Non-Null Count  Dtype   \n",
      "---  ------                   --------------  -----   \n",
      " 0   REASONFORCREDITENTRY     86326 non-null  category\n",
      " 1   OrderDate                86326 non-null  object  \n",
      " 2   CUSTOMERSTATE            43884 non-null  category\n",
      " 3   ProductName              86326 non-null  category\n",
      " 4   SKU                      86326 non-null  category\n",
      " 5   Size                     86326 non-null  category\n",
      " 6   Quantity                 86326 non-null  int64   \n",
      " 7   SupplierListedPrice      86326 non-null  int64   \n",
      " 8   SupplierDiscountedPrice  86326 non-null  float64 \n",
      " 9   account_id               86326 non-null  int64   \n",
      " 10  create_time              86326 non-null  object  \n",
      " 11  update_time              86326 non-null  object  \n",
      "dtypes: category(5), float64(1), int64(3), object(3)\n",
      "memory usage: 5.9+ MB\n"
     ]
    }
   ],
   "source": [
    "df3.info()"
   ]
  },
  {
   "cell_type": "code",
   "execution_count": 33,
   "id": "205bba7b-b7c2-41ac-8d06-02b19243ed9f",
   "metadata": {},
   "outputs": [
    {
     "data": {
      "text/plain": [
       "Index(['REASONFORCREDITENTRY', 'OrderDate', 'CUSTOMERSTATE', 'ProductName',\n",
       "       'SKU', 'Size', 'Quantity', 'SupplierListedPrice',\n",
       "       'SupplierDiscountedPrice', 'account_id', 'create_time', 'update_time'],\n",
       "      dtype='object')"
      ]
     },
     "execution_count": 33,
     "metadata": {},
     "output_type": "execute_result"
    }
   ],
   "source": [
    "df3.columns"
   ]
  },
  {
   "cell_type": "code",
   "execution_count": 47,
   "id": "55f1dd27-6754-4ee4-935f-ba1246699784",
   "metadata": {},
   "outputs": [
    {
     "data": {
      "image/png": "[encoded data removed]",
      "text/plain": [
       "<Figure size 1200x600 with 1 Axes>"
      ]
     },
     "metadata": {},
     "output_type": "display_data"
    }
   ],
   "source": [
    "\n",
    "df3['month'] = df3['OrderDate'].dt.to_period('M')  # Create a period for year-month\n",
    "monthly_sales = df3.groupby('month')['Quantity'].sum()\n",
    "\n",
    "\n",
    "plt.figure(figsize=(12, 6))\n",
    "monthly_sales.plot(kind='bar', color='orange', alpha=0.7)\n",
    "plt.title('Monthly Sales (Quantity Sold) for Meesho')\n",
    "plt.xlabel('Year-Month')\n",
    "plt.ylabel('Total Quantity Sold')\n",
    "plt.xticks(rotation=45)\n",
    "plt.grid(axis='y', linestyle='--', alpha=0.7)\n",
    "plt.tight_layout()\n",
    "plt.show()"
   ]
  },
  {
   "cell_type": "code",
   "execution_count": null,
   "id": "498842ba-4d44-4885-918a-51e0a1efbc7f",
   "metadata": {},
   "outputs": [],
   "source": []
  }
 ],
 "metadata": {
  "kernelspec": {
   "display_name": "Python 3 (ipykernel)",
   "language": "python",
   "name": "python3"
  },
  "language_info": {
   "codemirror_mode": {
    "name": "ipython",
    "version": 3
   },
   "file_extension": ".py",
   "mimetype": "text/x-python",
   "name": "python",
   "nbconvert_exporter": "python",
   "pygments_lexer": "ipython3",
   "version": "3.11.7"
  }
 },
 "nbformat": 4,
 "nbformat_minor": 5
}
